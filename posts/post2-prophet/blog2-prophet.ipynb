{
 "cells": [
  {
   "cell_type": "raw",
   "metadata": {
    "vscode": {
     "languageId": "raw"
    }
   },
   "source": [
    "---\n",
    "title: Exploring Prophet Library\n",
    "date: 2024-12-05\n",
    "description: An exploration of how Prophet time series forecasting works in python.\n",
    "categories: [Python, Prediction, Libraries]\n",
    "---"
   ]
  },
  {
   "cell_type": "markdown",
   "metadata": {},
   "source": [
    "# Exploring Prophet Library"
   ]
  },
  {
   "cell_type": "markdown",
   "metadata": {},
   "source": [
    " backgorund info"
   ]
  },
  {
   "cell_type": "code",
   "execution_count": 41,
   "metadata": {},
   "outputs": [
    {
     "data": {
      "text/html": [
       "<div>\n",
       "<style scoped>\n",
       "    .dataframe tbody tr th:only-of-type {\n",
       "        vertical-align: middle;\n",
       "    }\n",
       "\n",
       "    .dataframe tbody tr th {\n",
       "        vertical-align: top;\n",
       "    }\n",
       "\n",
       "    .dataframe thead th {\n",
       "        text-align: right;\n",
       "    }\n",
       "</style>\n",
       "<table border=\"1\" class=\"dataframe\">\n",
       "  <thead>\n",
       "    <tr style=\"text-align: right;\">\n",
       "      <th></th>\n",
       "      <th>Car_id</th>\n",
       "      <th>Date</th>\n",
       "      <th>Customer Name</th>\n",
       "      <th>Gender</th>\n",
       "      <th>Annual Income</th>\n",
       "      <th>Dealer_Name</th>\n",
       "      <th>Company</th>\n",
       "      <th>Model</th>\n",
       "      <th>Engine</th>\n",
       "      <th>Transmission</th>\n",
       "      <th>Color</th>\n",
       "      <th>Price ($)</th>\n",
       "      <th>Dealer_No</th>\n",
       "      <th>Body Style</th>\n",
       "      <th>Phone</th>\n",
       "      <th>Dealer_Region</th>\n",
       "    </tr>\n",
       "  </thead>\n",
       "  <tbody>\n",
       "    <tr>\n",
       "      <th>0</th>\n",
       "      <td>C_CND_000001</td>\n",
       "      <td>1/2/2022</td>\n",
       "      <td>Geraldine</td>\n",
       "      <td>Male</td>\n",
       "      <td>13500</td>\n",
       "      <td>Buddy Storbeck's Diesel Service Inc</td>\n",
       "      <td>Ford</td>\n",
       "      <td>Expedition</td>\n",
       "      <td>DoubleÂ Overhead Camshaft</td>\n",
       "      <td>Auto</td>\n",
       "      <td>Black</td>\n",
       "      <td>26000</td>\n",
       "      <td>06457-3834</td>\n",
       "      <td>SUV</td>\n",
       "      <td>8264678</td>\n",
       "      <td>Middletown</td>\n",
       "    </tr>\n",
       "    <tr>\n",
       "      <th>1</th>\n",
       "      <td>C_CND_000002</td>\n",
       "      <td>1/2/2022</td>\n",
       "      <td>Gia</td>\n",
       "      <td>Male</td>\n",
       "      <td>1480000</td>\n",
       "      <td>C &amp; M Motors Inc</td>\n",
       "      <td>Dodge</td>\n",
       "      <td>Durango</td>\n",
       "      <td>DoubleÂ Overhead Camshaft</td>\n",
       "      <td>Auto</td>\n",
       "      <td>Black</td>\n",
       "      <td>19000</td>\n",
       "      <td>60504-7114</td>\n",
       "      <td>SUV</td>\n",
       "      <td>6848189</td>\n",
       "      <td>Aurora</td>\n",
       "    </tr>\n",
       "    <tr>\n",
       "      <th>2</th>\n",
       "      <td>C_CND_000003</td>\n",
       "      <td>1/2/2022</td>\n",
       "      <td>Gianna</td>\n",
       "      <td>Male</td>\n",
       "      <td>1035000</td>\n",
       "      <td>Capitol KIA</td>\n",
       "      <td>Cadillac</td>\n",
       "      <td>Eldorado</td>\n",
       "      <td>Overhead Camshaft</td>\n",
       "      <td>Manual</td>\n",
       "      <td>Red</td>\n",
       "      <td>31500</td>\n",
       "      <td>38701-8047</td>\n",
       "      <td>Passenger</td>\n",
       "      <td>7298798</td>\n",
       "      <td>Greenville</td>\n",
       "    </tr>\n",
       "    <tr>\n",
       "      <th>3</th>\n",
       "      <td>C_CND_000004</td>\n",
       "      <td>1/2/2022</td>\n",
       "      <td>Giselle</td>\n",
       "      <td>Male</td>\n",
       "      <td>13500</td>\n",
       "      <td>Chrysler of Tri-Cities</td>\n",
       "      <td>Toyota</td>\n",
       "      <td>Celica</td>\n",
       "      <td>Overhead Camshaft</td>\n",
       "      <td>Manual</td>\n",
       "      <td>Pale White</td>\n",
       "      <td>14000</td>\n",
       "      <td>99301-3882</td>\n",
       "      <td>SUV</td>\n",
       "      <td>6257557</td>\n",
       "      <td>Pasco</td>\n",
       "    </tr>\n",
       "    <tr>\n",
       "      <th>4</th>\n",
       "      <td>C_CND_000005</td>\n",
       "      <td>1/2/2022</td>\n",
       "      <td>Grace</td>\n",
       "      <td>Male</td>\n",
       "      <td>1465000</td>\n",
       "      <td>Chrysler Plymouth</td>\n",
       "      <td>Acura</td>\n",
       "      <td>TL</td>\n",
       "      <td>DoubleÂ Overhead Camshaft</td>\n",
       "      <td>Auto</td>\n",
       "      <td>Red</td>\n",
       "      <td>24500</td>\n",
       "      <td>53546-9427</td>\n",
       "      <td>Hatchback</td>\n",
       "      <td>7081483</td>\n",
       "      <td>Janesville</td>\n",
       "    </tr>\n",
       "  </tbody>\n",
       "</table>\n",
       "</div>"
      ],
      "text/plain": [
       "         Car_id      Date Customer Name  ... Body Style    Phone Dealer_Region\n",
       "0  C_CND_000001  1/2/2022     Geraldine  ...        SUV  8264678    Middletown\n",
       "1  C_CND_000002  1/2/2022           Gia  ...        SUV  6848189        Aurora\n",
       "2  C_CND_000003  1/2/2022        Gianna  ...  Passenger  7298798    Greenville\n",
       "3  C_CND_000004  1/2/2022       Giselle  ...        SUV  6257557         Pasco\n",
       "4  C_CND_000005  1/2/2022         Grace  ...  Hatchback  7081483    Janesville\n",
       "\n",
       "[5 rows x 16 columns]"
      ]
     },
     "execution_count": 41,
     "metadata": {},
     "output_type": "execute_result"
    }
   ],
   "source": [
    "# import libraries\n",
    "import pandas as pd\n",
    "import matplotlib.pyplot as plt\n",
    "from prophet import Prophet\n",
    "import seaborn as sns\n",
    "from sklearn.model_selection import train_test_split\n",
    "from sklearn.metrics import mean_squared_error, mean_absolute_error\n",
    "\n",
    "# import data\n",
    "df = pd.read_csv(\"car_sales.csv\")\n",
    "df.head()"
   ]
  },
  {
   "cell_type": "markdown",
   "metadata": {},
   "source": [
    "- all prophet needs to work is a date column formatted as YYYY-MM-DD and the variable you're trying to predict. \n",
    "- we have to change the format of our date column\n",
    "- aftet the format is changed we have to rename the column to 'ds' for compatibility with Prophet\n",
    "- I'm also going to change the name of \"Price ($)\" for ease of use"
   ]
  },
  {
   "cell_type": "code",
   "execution_count": 42,
   "metadata": {},
   "outputs": [
    {
     "name": "stdout",
     "output_type": "stream",
     "text": [
      "0    2022-01-02\n",
      "1    2022-01-02\n",
      "2    2022-01-02\n",
      "3    2022-01-02\n",
      "4    2022-01-02\n",
      "Name: Date, dtype: object\n"
     ]
    }
   ],
   "source": [
    "# change column dtype to datetime\n",
    "df[\"Date\"] = pd.to_datetime(df[\"Date\"])\n",
    "\n",
    "# reformat the order\n",
    "df[\"Date\"] = df[\"Date\"].dt.strftime('%Y-%m-%d')\n",
    "\n",
    "# verify\n",
    "print(df[\"Date\"].head())"
   ]
  },
  {
   "cell_type": "code",
   "execution_count": 43,
   "metadata": {},
   "outputs": [
    {
     "data": {
      "text/html": [
       "<div>\n",
       "<style scoped>\n",
       "    .dataframe tbody tr th:only-of-type {\n",
       "        vertical-align: middle;\n",
       "    }\n",
       "\n",
       "    .dataframe tbody tr th {\n",
       "        vertical-align: top;\n",
       "    }\n",
       "\n",
       "    .dataframe thead th {\n",
       "        text-align: right;\n",
       "    }\n",
       "</style>\n",
       "<table border=\"1\" class=\"dataframe\">\n",
       "  <thead>\n",
       "    <tr style=\"text-align: right;\">\n",
       "      <th></th>\n",
       "      <th>Car_id</th>\n",
       "      <th>ds</th>\n",
       "      <th>Customer Name</th>\n",
       "      <th>Gender</th>\n",
       "      <th>Annual Income</th>\n",
       "      <th>Dealer_Name</th>\n",
       "      <th>Company</th>\n",
       "      <th>Model</th>\n",
       "      <th>Engine</th>\n",
       "      <th>Transmission</th>\n",
       "      <th>Color</th>\n",
       "      <th>y</th>\n",
       "      <th>Dealer_No</th>\n",
       "      <th>Body Style</th>\n",
       "      <th>Phone</th>\n",
       "      <th>Dealer_Region</th>\n",
       "    </tr>\n",
       "  </thead>\n",
       "  <tbody>\n",
       "    <tr>\n",
       "      <th>0</th>\n",
       "      <td>C_CND_000001</td>\n",
       "      <td>2022-01-02</td>\n",
       "      <td>Geraldine</td>\n",
       "      <td>Male</td>\n",
       "      <td>13500</td>\n",
       "      <td>Buddy Storbeck's Diesel Service Inc</td>\n",
       "      <td>Ford</td>\n",
       "      <td>Expedition</td>\n",
       "      <td>DoubleÂ Overhead Camshaft</td>\n",
       "      <td>Auto</td>\n",
       "      <td>Black</td>\n",
       "      <td>26000</td>\n",
       "      <td>06457-3834</td>\n",
       "      <td>SUV</td>\n",
       "      <td>8264678</td>\n",
       "      <td>Middletown</td>\n",
       "    </tr>\n",
       "    <tr>\n",
       "      <th>1</th>\n",
       "      <td>C_CND_000002</td>\n",
       "      <td>2022-01-02</td>\n",
       "      <td>Gia</td>\n",
       "      <td>Male</td>\n",
       "      <td>1480000</td>\n",
       "      <td>C &amp; M Motors Inc</td>\n",
       "      <td>Dodge</td>\n",
       "      <td>Durango</td>\n",
       "      <td>DoubleÂ Overhead Camshaft</td>\n",
       "      <td>Auto</td>\n",
       "      <td>Black</td>\n",
       "      <td>19000</td>\n",
       "      <td>60504-7114</td>\n",
       "      <td>SUV</td>\n",
       "      <td>6848189</td>\n",
       "      <td>Aurora</td>\n",
       "    </tr>\n",
       "    <tr>\n",
       "      <th>2</th>\n",
       "      <td>C_CND_000003</td>\n",
       "      <td>2022-01-02</td>\n",
       "      <td>Gianna</td>\n",
       "      <td>Male</td>\n",
       "      <td>1035000</td>\n",
       "      <td>Capitol KIA</td>\n",
       "      <td>Cadillac</td>\n",
       "      <td>Eldorado</td>\n",
       "      <td>Overhead Camshaft</td>\n",
       "      <td>Manual</td>\n",
       "      <td>Red</td>\n",
       "      <td>31500</td>\n",
       "      <td>38701-8047</td>\n",
       "      <td>Passenger</td>\n",
       "      <td>7298798</td>\n",
       "      <td>Greenville</td>\n",
       "    </tr>\n",
       "    <tr>\n",
       "      <th>3</th>\n",
       "      <td>C_CND_000004</td>\n",
       "      <td>2022-01-02</td>\n",
       "      <td>Giselle</td>\n",
       "      <td>Male</td>\n",
       "      <td>13500</td>\n",
       "      <td>Chrysler of Tri-Cities</td>\n",
       "      <td>Toyota</td>\n",
       "      <td>Celica</td>\n",
       "      <td>Overhead Camshaft</td>\n",
       "      <td>Manual</td>\n",
       "      <td>Pale White</td>\n",
       "      <td>14000</td>\n",
       "      <td>99301-3882</td>\n",
       "      <td>SUV</td>\n",
       "      <td>6257557</td>\n",
       "      <td>Pasco</td>\n",
       "    </tr>\n",
       "    <tr>\n",
       "      <th>4</th>\n",
       "      <td>C_CND_000005</td>\n",
       "      <td>2022-01-02</td>\n",
       "      <td>Grace</td>\n",
       "      <td>Male</td>\n",
       "      <td>1465000</td>\n",
       "      <td>Chrysler Plymouth</td>\n",
       "      <td>Acura</td>\n",
       "      <td>TL</td>\n",
       "      <td>DoubleÂ Overhead Camshaft</td>\n",
       "      <td>Auto</td>\n",
       "      <td>Red</td>\n",
       "      <td>24500</td>\n",
       "      <td>53546-9427</td>\n",
       "      <td>Hatchback</td>\n",
       "      <td>7081483</td>\n",
       "      <td>Janesville</td>\n",
       "    </tr>\n",
       "  </tbody>\n",
       "</table>\n",
       "</div>"
      ],
      "text/plain": [
       "         Car_id          ds Customer Name  ... Body Style    Phone Dealer_Region\n",
       "0  C_CND_000001  2022-01-02     Geraldine  ...        SUV  8264678    Middletown\n",
       "1  C_CND_000002  2022-01-02           Gia  ...        SUV  6848189        Aurora\n",
       "2  C_CND_000003  2022-01-02        Gianna  ...  Passenger  7298798    Greenville\n",
       "3  C_CND_000004  2022-01-02       Giselle  ...        SUV  6257557         Pasco\n",
       "4  C_CND_000005  2022-01-02         Grace  ...  Hatchback  7081483    Janesville\n",
       "\n",
       "[5 rows x 16 columns]"
      ]
     },
     "execution_count": 43,
     "metadata": {},
     "output_type": "execute_result"
    }
   ],
   "source": [
    "# rename for compatibility\n",
    "df.rename(columns={\"Date\": \"ds\"}, inplace=True) \n",
    "df.rename(columns={\"Price ($)\": \"y\"}, inplace=True)\n",
    "\n",
    "# verify\n",
    "df.head()"
   ]
  },
  {
   "cell_type": "code",
   "execution_count": 44,
   "metadata": {},
   "outputs": [
    {
     "data": {
      "text/html": [
       "<div>\n",
       "<style scoped>\n",
       "    .dataframe tbody tr th:only-of-type {\n",
       "        vertical-align: middle;\n",
       "    }\n",
       "\n",
       "    .dataframe tbody tr th {\n",
       "        vertical-align: top;\n",
       "    }\n",
       "\n",
       "    .dataframe thead th {\n",
       "        text-align: right;\n",
       "    }\n",
       "</style>\n",
       "<table border=\"1\" class=\"dataframe\">\n",
       "  <thead>\n",
       "    <tr style=\"text-align: right;\">\n",
       "      <th></th>\n",
       "      <th>ds</th>\n",
       "      <th>y</th>\n",
       "    </tr>\n",
       "  </thead>\n",
       "  <tbody>\n",
       "    <tr>\n",
       "      <th>0</th>\n",
       "      <td>2022-01-02</td>\n",
       "      <td>26000</td>\n",
       "    </tr>\n",
       "    <tr>\n",
       "      <th>1</th>\n",
       "      <td>2022-01-02</td>\n",
       "      <td>19000</td>\n",
       "    </tr>\n",
       "    <tr>\n",
       "      <th>2</th>\n",
       "      <td>2022-01-02</td>\n",
       "      <td>31500</td>\n",
       "    </tr>\n",
       "    <tr>\n",
       "      <th>3</th>\n",
       "      <td>2022-01-02</td>\n",
       "      <td>14000</td>\n",
       "    </tr>\n",
       "    <tr>\n",
       "      <th>4</th>\n",
       "      <td>2022-01-02</td>\n",
       "      <td>24500</td>\n",
       "    </tr>\n",
       "  </tbody>\n",
       "</table>\n",
       "</div>"
      ],
      "text/plain": [
       "           ds      y\n",
       "0  2022-01-02  26000\n",
       "1  2022-01-02  19000\n",
       "2  2022-01-02  31500\n",
       "3  2022-01-02  14000\n",
       "4  2022-01-02  24500"
      ]
     },
     "execution_count": 44,
     "metadata": {},
     "output_type": "execute_result"
    }
   ],
   "source": [
    "# drop columns we won't use in this demo\n",
    "df = df[[\"ds\", \"y\"]]\n",
    "\n",
    "# verify\n",
    "df.head()"
   ]
  },
  {
   "cell_type": "markdown",
   "metadata": {},
   "source": [
    "The metric we'll be using to judge the performance of this model is Mean Absolute Error (MAE). This metric is sensitive to outliers so were going to check for those in 'y' before continuing. The dataset is large enough that we'll remove any outliers."
   ]
  },
  {
   "cell_type": "code",
   "execution_count": 45,
   "metadata": {},
   "outputs": [
    {
     "data": {
      "image/png": "[encoded data removed]",
      "text/plain": [
       "<Figure size 640x480 with 1 Axes>"
      ]
     },
     "metadata": {},
     "output_type": "display_data"
    }
   ],
   "source": [
    "# check for outliers\n",
    "sns.boxplot(y=df['y'])\n",
    "plt.title('Boxplot of y')\n",
    "plt.show()"
   ]
  },
  {
   "cell_type": "code",
   "execution_count": 47,
   "metadata": {},
   "outputs": [
    {
     "data": {
      "text/plain": [
       "57990"
      ]
     },
     "execution_count": 47,
     "metadata": {},
     "output_type": "execute_result"
    }
   ],
   "source": [
    "df['y'].max()"
   ]
  },
  {
   "cell_type": "code",
   "execution_count": 46,
   "metadata": {},
   "outputs": [
    {
     "data": {
      "image/png": "[encoded data removed]",
      "text/plain": [
       "<Figure size 640x480 with 1 Axes>"
      ]
     },
     "metadata": {},
     "output_type": "display_data"
    }
   ],
   "source": [
    "# set IQR boundaries\n",
    "q1 = df[\"y\"].quantile(0.25) \n",
    "q3 = df[\"y\"].quantile(0.75)\n",
    "IQR = q3 - q1\n",
    "\n",
    "# set upper and lower bound\n",
    "lower_bound = q1 - 1.5 * IQR\n",
    "upper_bound = q3 + 1.5 * IQR\n",
    "\n",
    "# remove the outliers\n",
    "df = df[(df['y'] >= lower_bound) & (df['y'] <= upper_bound)]\n",
    "\n",
    "# reset index to account for removed rows\n",
    "df.reset_index(drop=True, inplace=True)\n",
    "\n",
    "# verify changes\n",
    "sns.boxplot(y=df['y'])\n",
    "plt.title('Boxplot of y')\n",
    "plt.show()"
   ]
  },
  {
   "cell_type": "markdown",
   "metadata": {},
   "source": [
    "The default setting of IQR, upper bound, and lower bounds didn't catch all of the outliers but it significantly reduced them. While a car price of "
   ]
  },
  {
   "cell_type": "markdown",
   "metadata": {},
   "source": [
    "Now we'll create our train and test split for the modeling. We're using a 80/20 split."
   ]
  },
  {
   "cell_type": "code",
   "execution_count": 34,
   "metadata": {},
   "outputs": [
    {
     "name": "stdout",
     "output_type": "stream",
     "text": [
      "xtrain shape: (19124,)\n",
      "ytrain shape: (19124,)\n",
      "xtest shape: (4782,)\n",
      "ytest shape: (4782,)\n"
     ]
    }
   ],
   "source": [
    "# set our variables\n",
    "x = df[\"ds\"]\n",
    "y = df[\"y\"]\n",
    "\n",
    "# create training/test split\n",
    "xtrain, xtest, ytrain, ytest = train_test_split(x, y, test_size= 0.2, random_state=1)\n",
    "print(f\"xtrain shape: {xtrain.shape}\")\n",
    "print(f\"ytrain shape: {ytrain.shape}\")\n",
    "print(f\"xtest shape: {xtest.shape}\")\n",
    "print(f\"ytest shape: {ytest.shape}\")"
   ]
  },
  {
   "cell_type": "code",
   "execution_count": null,
   "metadata": {},
   "outputs": [
    {
     "name": "stderr",
     "output_type": "stream",
     "text": [
      "11:09:43 - cmdstanpy - INFO - Chain [1] start processing\n",
      "11:09:46 - cmdstanpy - INFO - Chain [1] done processing\n"
     ]
    },
    {
     "data": {
      "text/plain": [
       "<prophet.forecaster.Prophet at 0x289effcb9d0>"
      ]
     },
     "execution_count": 35,
     "metadata": {},
     "output_type": "execute_result"
    }
   ],
   "source": [
    "# initialize Prophet object and fit model\n",
    "model = Prophet()\n",
    "model.fit(df)"
   ]
  },
  {
   "cell_type": "markdown",
   "metadata": {},
   "source": [
    "Our latest date in this data is December 31st, 2023. Our forecasting will predict 12 months ahead so it will end December 31st, 2024."
   ]
  },
  {
   "cell_type": "code",
   "execution_count": null,
   "metadata": {},
   "outputs": [
    {
     "name": "stdout",
     "output_type": "stream",
     "text": [
      "2023-12-31\n"
     ]
    }
   ],
   "source": [
    "# checking the latest date\n",
    "print(df[\"ds\"].max())"
   ]
  },
  {
   "cell_type": "code",
   "execution_count": null,
   "metadata": {},
   "outputs": [],
   "source": [
    "# make predictions\n",
    "future = model.make_future_dataframe(periods=12, freq='ME')  # 12 months ahead\n",
    "forecast = model.predict(future)"
   ]
  },
  {
   "cell_type": "code",
   "execution_count": 39,
   "metadata": {},
   "outputs": [
    {
     "data": {
      "image/png": "[encoded data removed]",
      "text/plain": [
       "<Figure size 900x600 with 2 Axes>"
      ]
     },
     "metadata": {},
     "output_type": "display_data"
    }
   ],
   "source": [
    "# plot predictions\n",
    "model.plot_components(forecast)\n",
    "plt.show()"
   ]
  },
  {
   "cell_type": "markdown",
   "metadata": {},
   "source": [
    "Compare Forecasted from training to actuals from test"
   ]
  },
  {
   "cell_type": "markdown",
   "metadata": {},
   "source": [
    "#### Analysis"
   ]
  },
  {
   "cell_type": "markdown",
   "metadata": {},
   "source": []
  }
 ],
 "metadata": {
  "kernelspec": {
   "display_name": "blog2",
   "language": "python",
   "name": "python3"
  },
  "language_info": {
   "codemirror_mode": {
    "name": "ipython",
    "version": 3
   },
   "file_extension": ".py",
   "mimetype": "text/x-python",
   "name": "python",
   "nbconvert_exporter": "python",
   "pygments_lexer": "ipython3",
   "version": "3.11.11"
  }
 },
 "nbformat": 4,
 "nbformat_minor": 2
}
