{
 "cells": [
  {
   "cell_type": "raw",
   "metadata": {
    "vscode": {
     "languageId": "raw"
    }
   },
   "source": [
    "---\n",
    "title: The Age of Misinformation. A Data Scientist's Role.\n",
    "date: 2024-10-25\n",
    "description: An investigation into online misinformation and how data science is involved.\n",
    "categories: [Python]\n",
    "---"
   ]
  },
  {
   "cell_type": "markdown",
   "metadata": {},
   "source": [
    "The Age of Misinformation: A Data Scientist's Role"
   ]
  },
  {
   "cell_type": "markdown",
   "metadata": {},
   "source": [
    "Numbers have an inherit power to them. They bring a sense power and credibility to the arguement, whether it is genuine or not. Be in an advertisement, news article, or post on social media, the inclusion of statistics makes us more inclined to believe the information at face value. This perception stems from the beleif that \"the facts\" are objective and immune to manipulation.\n",
    "\n",
    "The reality is that numbers are so easily manipulated. They can be selective to show exactly what a company wants, misrepresented in visuals to seem more or less extreme, or be flat out changed to shape the result. Context, methodology, and interpretation are purposefully hidden or ignored for the sake of convincing consumers. \n",
    "\n",
    "In this post I'll be exploring and demonstrating how simple it is to manipulate data into fitting my narrative. Hopefully this will make people approach data and statistics in media with a critical eye."
   ]
  },
  {
   "cell_type": "markdown",
   "metadata": {},
   "source": [
    "For this example I'll be working on a titanic dataset. This is a labeled dataset meaning we know the correct answers for our predictor variable \"Surived\". In addition, because the dataset is historical, we know the data to be unbiased. This specific dataset does not include all the people on the titanic, but it is a random sample of the full data. To start I'm importing my libraries, doing simple exploration, and cleaning where needed."
   ]
  },
  {
   "cell_type": "code",
   "execution_count": null,
   "metadata": {},
   "outputs": [
    {
     "name": "stdout",
     "output_type": "stream",
     "text": [
      "(891, 5)\n"
     ]
    },
    {
     "data": {
      "text/html": [
       "<div>\n",
       "<style scoped>\n",
       "    .dataframe tbody tr th:only-of-type {\n",
       "        vertical-align: middle;\n",
       "    }\n",
       "\n",
       "    .dataframe tbody tr th {\n",
       "        vertical-align: top;\n",
       "    }\n",
       "\n",
       "    .dataframe thead th {\n",
       "        text-align: right;\n",
       "    }\n",
       "</style>\n",
       "<table border=\"1\" class=\"dataframe\">\n",
       "  <thead>\n",
       "    <tr style=\"text-align: right;\">\n",
       "      <th></th>\n",
       "      <th>Survived</th>\n",
       "      <th>Pclass</th>\n",
       "      <th>Gender</th>\n",
       "      <th>Age</th>\n",
       "      <th>Fare</th>\n",
       "    </tr>\n",
       "  </thead>\n",
       "  <tbody>\n",
       "    <tr>\n",
       "      <th>0</th>\n",
       "      <td>0</td>\n",
       "      <td>3</td>\n",
       "      <td>male</td>\n",
       "      <td>22.0</td>\n",
       "      <td>7.2500</td>\n",
       "    </tr>\n",
       "    <tr>\n",
       "      <th>1</th>\n",
       "      <td>1</td>\n",
       "      <td>1</td>\n",
       "      <td>female</td>\n",
       "      <td>38.0</td>\n",
       "      <td>71.2833</td>\n",
       "    </tr>\n",
       "    <tr>\n",
       "      <th>2</th>\n",
       "      <td>1</td>\n",
       "      <td>3</td>\n",
       "      <td>female</td>\n",
       "      <td>26.0</td>\n",
       "      <td>7.9250</td>\n",
       "    </tr>\n",
       "    <tr>\n",
       "      <th>3</th>\n",
       "      <td>1</td>\n",
       "      <td>1</td>\n",
       "      <td>female</td>\n",
       "      <td>35.0</td>\n",
       "      <td>53.1000</td>\n",
       "    </tr>\n",
       "    <tr>\n",
       "      <th>4</th>\n",
       "      <td>0</td>\n",
       "      <td>3</td>\n",
       "      <td>male</td>\n",
       "      <td>35.0</td>\n",
       "      <td>8.0500</td>\n",
       "    </tr>\n",
       "  </tbody>\n",
       "</table>\n",
       "</div>"
      ],
      "text/plain": [
       "   Survived  Pclass  Gender   Age     Fare\n",
       "0         0       3    male  22.0   7.2500\n",
       "1         1       1  female  38.0  71.2833\n",
       "2         1       3  female  26.0   7.9250\n",
       "3         1       1  female  35.0  53.1000\n",
       "4         0       3    male  35.0   8.0500"
      ]
     },
     "execution_count": 19,
     "metadata": {},
     "output_type": "execute_result"
    }
   ],
   "source": [
    "# import our libraries\n",
    "import pandas as pd\n",
    "import matplotlib.pyplot as plt\n",
    "import seaborn as sns\n",
    "from sklearn.linear_model import LogisticRegression\n",
    "from sklearn.model_selection import train_test_split\n",
    "from sklearn.metrics import accuracy_score, classification_report, confusion_matrix\n",
    "\n",
    "# check out our dataset\n",
    "df = pd.read_csv(\"titanic.csv\")\n",
    "print(df.shape)\n",
    "df.head(5)"
   ]
  },
  {
   "cell_type": "code",
   "execution_count": 20,
   "metadata": {},
   "outputs": [
    {
     "name": "stdout",
     "output_type": "stream",
     "text": [
      "Missing values per column:\n",
      "Survived    0\n",
      "Pclass      0\n",
      "Gender      0\n",
      "Age         0\n",
      "Fare        0\n",
      "dtype: int64\n",
      "Column dtypes:\n",
      "Survived      int64\n",
      "Pclass        int64\n",
      "Gender       object\n",
      "Age         float64\n",
      "Fare        float64\n",
      "dtype: object\n"
     ]
    }
   ],
   "source": [
    "print(f\"Missing values per column:\\n{df.isna().sum()}\")\n",
    "print(f\"Column dtypes:\\n{df.dtypes}\")"
   ]
  },
  {
   "cell_type": "markdown",
   "metadata": {},
   "source": [
    "Luckily there are no missing values we have to fix. In this next step all I'm doing is changing the columns to be useable in our models later on. 0 will represent Male passengers and 0 1 will represent female passengers."
   ]
  },
  {
   "cell_type": "code",
   "execution_count": 21,
   "metadata": {},
   "outputs": [
    {
     "name": "stdout",
     "output_type": "stream",
     "text": [
      "Gender\n",
      "0    577\n",
      "1    314\n",
      "Name: count, dtype: int64\n"
     ]
    }
   ],
   "source": [
    "# including this next line to avoid errors from future version\n",
    "pd.set_option('future.no_silent_downcasting', True)\n",
    "\n",
    "# changing column \"Gender\" to boolean values. \n",
    "df[\"Gender\"] = df[\"Gender\"].replace({\"male\": 0, \"female\": 1})\n",
    "print(df[\"Gender\"].value_counts())"
   ]
  },
  {
   "cell_type": "markdown",
   "metadata": {},
   "source": [
    "For the last step in cleaning, we'll be checking the \"Fare\" column for any outliers because that could have a huge affect on our model."
   ]
  },
  {
   "cell_type": "code",
   "execution_count": 24,
   "metadata": {},
   "outputs": [
    {
     "data": {
      "image/png": "[encoded data removed]",
      "text/plain": [
       "<Figure size 800x600 with 1 Axes>"
      ]
     },
     "metadata": {},
     "output_type": "display_data"
    }
   ],
   "source": [
    "# we'll be using a box and whisker plot for outlier detection\n",
    "plt.figure(figsize=(8, 6))\n",
    "plt.boxplot(df[\"Fare\"].dropna(), patch_artist=True, boxprops=dict(facecolor=\"blue\"))\n",
    "plt.title(\"Fare Outliers\")\n",
    "plt.xlabel(\"Fare\")\n",
    "plt.grid(axis='x')\n",
    "\n",
    "plt.show()"
   ]
  },
  {
   "cell_type": "markdown",
   "metadata": {},
   "source": [
    "Unfortunately, there are many outliers on the high end for fares. For this dataset, it would not be appropriate to remove or replace any of our outliers because we could be losnig valueable information about what influences the predictor variable \"Survived\". However, we still need to perform outlier detection to understand the impact it will have on our model later. Knowing we have so many high end outliers in our data could provide insight when we evaluate later on"
   ]
  },
  {
   "cell_type": "markdown",
   "metadata": {},
   "source": [
    "Now that our dataset is ready, we're going to make a simple train/test split to use in our models. Our predictor variable will be \"Survived\", where 0 represents a passenger did not live and 1 represents a survivor. I'm using a decision tree that is limited to 3 splits for the sake of a simple visualization."
   ]
  },
  {
   "cell_type": "code",
   "execution_count": 26,
   "metadata": {},
   "outputs": [
    {
     "name": "stdout",
     "output_type": "stream",
     "text": [
      "xtrain shape: (712, 4)\n",
      "ytrain shape: (712,)\n",
      "xtest shape: (179, 4)\n",
      "ytest shape: (179,)\n"
     ]
    }
   ],
   "source": [
    "x = df.drop(columns=[\"Survived\"]) # drop y variable, keep the rest\n",
    "y = df[\"Survived\"]\n",
    "\n",
    "# train/test split. 80 train, 20 test.\n",
    "xtrain, xtest, ytrain, ytest = train_test_split(x, y, test_size= 0.2, random_state=1)\n",
    "print(f\"xtrain shape: {xtrain.shape}\")\n",
    "print(f\"ytrain shape: {ytrain.shape}\")\n",
    "print(f\"xtest shape: {xtest.shape}\")\n",
    "print(f\"ytest shape: {ytest.shape}\")\n",
    "\n",
    "# creating and fitting our model\n",
    "mdl1 = LogisticRegression(random_state=1)\n",
    "mdl1.fit(xtrain, ytrain)\n",
    "\n",
    "# create predictions\n",
    "ypred = mdl1.predict(xtest)"
   ]
  },
  {
   "cell_type": "markdown",
   "metadata": {},
   "source": [
    "Now that our model has ran we're going to look at it's performance. Please note that LogisticRegression is being used here for the sake of simplicity for our example. LogisticRegression assumes the variables are independent of each other, meaning one value has no affect on the others. For our dataset, the x variables are independent so we don't have to worry about that. It is also sensitive to outliers. We screened our float value, \"Fare\" for outliers earlier and found many. However, as discussed earlier, it is not appropriate to remove these so we will be evaluating with that in mind.\n",
    "\n",
    "We'll be looking at the overall accuracy score and a confusion matrix to evaluate. The accuracy score is straightforward, its the number of correct predictions over the total points predicted. "
   ]
  },
  {
   "cell_type": "code",
   "execution_count": 25,
   "metadata": {},
   "outputs": [
    {
     "name": "stdout",
     "output_type": "stream",
     "text": [
      "Accuracy of Model 1: 0.79888\n"
     ]
    }
   ],
   "source": [
    "accuracy = accuracy_score(ytest, ypred)\n",
    "print(f\"Accuracy of Model 1: {accuracy:.5f}\")"
   ]
  },
  {
   "cell_type": "markdown",
   "metadata": {},
   "source": [
    "Although far from perfect, a (rounded) accuracy score of 80% is a fairly good performance for our LogisticRegression model. In other words, our model correctly predicted 143 points of our 179 included in ytest. I'll discuss this more later, but note that even our labeled, unedited data fails to predict points perfectly."
   ]
  },
  {
   "cell_type": "markdown",
   "metadata": {},
   "source": [
    "Next we'll be looking at a confusion matrix. This provides a simple visual to see how our model is predicting points. This will provide insight into what types of points the model is best at predicting and where it struggles."
   ]
  },
  {
   "cell_type": "code",
   "execution_count": null,
   "metadata": {},
   "outputs": [],
   "source": [
    "conf_matrix = confusion_matrix(ytest, ypred)\n",
    "print(conf_matrix)"
   ]
  },
  {
   "cell_type": "markdown",
   "metadata": {},
   "source": [
    "issues:\n",
    "- despite using 'pure' data, where we know the answers, the predictor model is not 100% accurate because errors are going to happen no matter what\n",
    "- this alone is enough to be skeptical of peoples numbers\n",
    "- but it can get so much worse too"
   ]
  },
  {
   "cell_type": "markdown",
   "metadata": {},
   "source": [
    "introduce falsifying data\n",
    "- now say the titanic happened today, and we work for a news outlet that wants to push the idea that the famous line 'women and children' was true, regardless of class/ticket\n",
    "- the real data did not look good for this claim, or we want it to look even better\n",
    "- so i'll edit the data to show all women survived the crash"
   ]
  },
  {
   "cell_type": "code",
   "execution_count": null,
   "metadata": {},
   "outputs": [],
   "source": [
    "# edit the column survived on a new df"
   ]
  },
  {
   "cell_type": "markdown",
   "metadata": {},
   "source": [
    "now we'll run the same decision tree, same parameters, on our edited dataset\n"
   ]
  },
  {
   "cell_type": "code",
   "execution_count": null,
   "metadata": {},
   "outputs": [],
   "source": [
    "# run model\n",
    "# print same metrics"
   ]
  },
  {
   "cell_type": "markdown",
   "metadata": {},
   "source": [
    "- changes the results completely\n",
    "- pushes our narrative\n",
    "- took 2 seconds to change the entire story"
   ]
  },
  {
   "cell_type": "markdown",
   "metadata": {},
   "source": [
    "- for this demonstration we know its not true, and its historical data so changing results doesn't really have an impact\n",
    "- but say we instead worked for an insurance company, and we were told to decrease the amount paid out on claims. or we worked in sales and our boss asked us to make the sales figures look better.\n",
    "- then it actually impacts people. claims who really need it are rejected and the boss looks good on paper while the business is actually failing\n",
    "- it becomes the ethical responsibility of data scientists to uphold truthful data and results"
   ]
  },
  {
   "cell_type": "markdown",
   "metadata": {},
   "source": [
    "- need to ensure the data source is good\n",
    "    - reference the LA police deployment issue"
   ]
  },
  {
   "cell_type": "code",
   "execution_count": null,
   "metadata": {},
   "outputs": [],
   "source": [
    "# breifly show code here if you can find the dataset/link to an article about it to break up the text"
   ]
  },
  {
   "cell_type": "markdown",
   "metadata": {},
   "source": [
    "- it is unethical to change the data for your own gain\n",
    "- causes issues in real life, rapid spread of misinformation\n",
    "- not only an issue with numbers, but journalism have had this issue forever. numbers just make it more believeable"
   ]
  },
  {
   "cell_type": "markdown",
   "metadata": {},
   "source": [
    "- also the NEW responsibility of people today, especially online, to be wary of the numbers/data because its not always true\n",
    "- need to watch for the source of the data, the scale in how its displayed, what its being compared to, etc\n",
    "- all too easy to make stuff up, to safely navigate the internet people need to understand this\n",
    "- data scientist job to not make it any harder on people"
   ]
  }
 ],
 "metadata": {
  "kernelspec": {
   "display_name": "module8",
   "language": "python",
   "name": "python3"
  },
  "language_info": {
   "codemirror_mode": {
    "name": "ipython",
    "version": 3
   },
   "file_extension": ".py",
   "mimetype": "text/x-python",
   "name": "python",
   "nbconvert_exporter": "python",
   "pygments_lexer": "ipython3",
   "version": "3.11.10"
  }
 },
 "nbformat": 4,
 "nbformat_minor": 2
}
