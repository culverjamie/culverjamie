{
 "cells": [
  {
   "cell_type": "raw",
   "metadata": {
    "vscode": {
     "languageId": "raw"
    }
   },
   "source": [
    "---\n",
    "title: Using OpenAI's API\n",
    "date: 2024-11-29\n",
    "description: A beginners guide to using OpenAI's API for simple query. \n",
    "categories: [Python, LLMs, Machine Learning]\n",
    "---"
   ]
  },
  {
   "cell_type": "markdown",
   "metadata": {},
   "source": [
    "# Using OpenAI's API"
   ]
  },
  {
   "cell_type": "markdown",
   "metadata": {},
   "source": [
    "OpenAI (known for ChatGPT) has a public API availabile for queries at a low cost of entry. Its great for personal use to keep yourself organized, use as a study aide, draft essays or code, generate creative prompts, assist with summarizing searches, and infinitly more tasks. In this post I'll introduce a simple query to demonstrate how to access the API."
   ]
  }
 ],
 "metadata": {
  "language_info": {
   "name": "python"
  }
 },
 "nbformat": 4,
 "nbformat_minor": 2
}
